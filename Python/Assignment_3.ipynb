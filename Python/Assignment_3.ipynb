{
  "nbformat": 4,
  "nbformat_minor": 0,
  "metadata": {
    "colab": {
      "name": "Assignment 3.ipynb",
      "provenance": [],
      "collapsed_sections": []
    },
    "kernelspec": {
      "name": "python3",
      "display_name": "Python 3"
    }
  },
  "cells": [
    {
      "cell_type": "code",
      "metadata": {
        "id": "PLQYZJyR0KCB",
        "outputId": "6a730cbb-66c1-4fd1-9862-2628044d72c9",
        "colab": {
          "base_uri": "https://localhost:8080/",
          "height": 85
        }
      },
      "source": [
        "# Q1 Write a function calculation() such that it can accept two variables as arguments and calculate the addition and subtraction of it. And also it must return both addition and subtraction in a single return call\n",
        "\n",
        "def calculation(num1,num2):\n",
        "  add=num1+num2\n",
        "  sub=num1-num2\n",
        "  return add,sub\n",
        "\n",
        "num1=int(input(\"Enter the First Number: \"))\n",
        "num2=int(input(\"Enter the Second Number: \"))\n",
        "addition,subtraction=calculation(num1,num2)\n",
        "\n",
        "print(f'Addition ------ {num1} + {num2} = {addition}')\n",
        "print(f'Subtraction --- {num1} - {num2} = {subtraction}')"
      ],
      "execution_count": null,
      "outputs": [
        {
          "output_type": "stream",
          "text": [
            "Enter the First Number: 70\n",
            "Enter the Second Number: 25\n",
            "Addition ------ 70 + 25 = 95\n",
            "Subtraction --- 70 - 25 = 45\n"
          ],
          "name": "stdout"
        }
      ]
    },
    {
      "cell_type": "code",
      "metadata": {
        "id": "GkAbUD7t2Bj2",
        "outputId": "d47d7025-5948-4e18-ac2c-a6716424190b",
        "colab": {
          "base_uri": "https://localhost:8080/",
          "height": 119
        }
      },
      "source": [
        "# Q2 : Create a function showEmployee() in such a way that it should accept employee name, and it’s salary and display both, and if the salary is missing in function call it should show it as 9000\n",
        "\n",
        "\n",
        "def showEmployee(empName,salary=9000):\n",
        "  print(\"Employee Name is : \",empName)\n",
        "  print(f'Salary of {empName} is {salary}')\n",
        "  print(\"\")\n",
        "\n",
        "showEmployee(\"Shanil\",58000) \n",
        "showEmployee(\"Arun\") # deafult argument"
      ],
      "execution_count": null,
      "outputs": [
        {
          "output_type": "stream",
          "text": [
            "Employee Name is :  Shanil\n",
            "Salary of Shanil is 58000\n",
            "\n",
            "Employee Name is :  Arun\n",
            "Salary of Arun is 9000\n",
            "\n"
          ],
          "name": "stdout"
        }
      ]
    },
    {
      "cell_type": "code",
      "metadata": {
        "id": "7RLjOPCH3qy3",
        "outputId": "78521142-2bf2-4875-8976-dae707ed74bb",
        "colab": {
          "base_uri": "https://localhost:8080/",
          "height": 34
        }
      },
      "source": [
        "# Q3 : Write a function called multipleLetterCount. This function takes in one parameter (a string) and returns a dictionary with the keys being the letters and the value being the count of the letter.\n",
        "\n",
        "def multipleLetterCount(mystr):\n",
        "  dict1={}\n",
        "  for ele in mystr:\n",
        "    keys=dict1.keys()\n",
        "    if ele in keys:\n",
        "      dict1[ele]=dict1[ele]+1\n",
        "    else:\n",
        "      dict1[ele]=1\n",
        "  return dict1\n",
        "\n",
        "res=multipleLetterCount('awesome')\n",
        "print(dict(res))\n"
      ],
      "execution_count": 33,
      "outputs": [
        {
          "output_type": "stream",
          "text": [
            "{'a': 1, 'w': 1, 'e': 2, 's': 1, 'o': 1, 'm': 1}\n"
          ],
          "name": "stdout"
        }
      ]
    }
  ]
}