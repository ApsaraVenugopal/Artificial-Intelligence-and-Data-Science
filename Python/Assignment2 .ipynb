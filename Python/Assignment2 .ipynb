{
  "nbformat": 4,
  "nbformat_minor": 0,
  "metadata": {
    "colab": {
      "name": "Assignment2.ipynb",
      "provenance": [],
      "collapsed_sections": []
    },
    "kernelspec": {
      "name": "python3",
      "display_name": "Python 3"
    }
  },
  "cells": [
    {
      "cell_type": "code",
      "metadata": {
        "id": "pltTb53YJClt",
        "outputId": "fecdbec2-5aef-4d83-8095-ef4bf6a74abb",
        "colab": {
          "base_uri": "https://localhost:8080/",
          "height": 34
        }
      },
      "source": [
        "#Q 1: Modify the first item (22) of a list inside a following tuple to 222\n",
        "\n",
        "tuple1 = (11, [22, 33], 44, 55)\n",
        "list1=list(tuple1) \n",
        "list1[1][0]=222 # changing the list element 22 to 222 \n",
        "tuple1=tuple(list1)\n",
        "tuple1"
      ],
      "execution_count": null,
      "outputs": [
        {
          "output_type": "execute_result",
          "data": {
            "text/plain": [
              "(11, [222, 33], 44, 55)"
            ]
          },
          "metadata": {
            "tags": []
          },
          "execution_count": 2
        }
      ]
    },
    {
      "cell_type": "code",
      "metadata": {
        "id": "lZ9pfD7ENRFQ",
        "outputId": "244ee6a3-7916-4b02-b921-d3044aac290a",
        "colab": {
          "base_uri": "https://localhost:8080/",
          "height": 34
        }
      },
      "source": [
        "#Q 2: Count the number of occurrences of item 50 from a tuple\n",
        "\n",
        "\n",
        "def check_item(tuple1,n):\n",
        "  count=0\n",
        "  for i in tuple1:\n",
        "    if i==n:\n",
        "      count=count+1\n",
        "  return count\n",
        "\n",
        "tuple1 = (50, 10, 60, 70, 50)\n",
        "n=50\n",
        "print(\"Number of occurrences = \",check_item(tuple1,n))"
      ],
      "execution_count": null,
      "outputs": [
        {
          "output_type": "stream",
          "text": [
            "Number of occurrences =  2\n"
          ],
          "name": "stdout"
        }
      ]
    },
    {
      "cell_type": "code",
      "metadata": {
        "id": "5ItorGkgggAG",
        "outputId": "d5dfa9cf-06d5-44b9-f7ff-966cbdd914cd",
        "colab": {
          "base_uri": "https://localhost:8080/",
          "height": 136
        }
      },
      "source": [
        "#Q 3: Write a Python program to convert a list to a tuple\n",
        "\n",
        "def convertion(lst):\n",
        "  tpl=tuple(lst) #conversion of list \"lst\" to tuple \"tpl\" using tuple()\n",
        "  return tpl\n",
        "\n",
        "lst=[]\n",
        "n=int(input(\"Enter the number of elements: \"))\n",
        "for i in range(0,n):\n",
        "  element=input()\n",
        "  lst.append(element)\n",
        "res=convertion(lst)\n",
        "print(\"Resultant Tuple after conversion\",res)"
      ],
      "execution_count": null,
      "outputs": [
        {
          "output_type": "stream",
          "text": [
            "Enter the number of elements: 5\n",
            "12\n",
            "23\n",
            "34\n",
            "45\n",
            "56\n",
            "Resultant Tuple after conversion ('12', '23', '34', '45', '56')\n"
          ],
          "name": "stdout"
        }
      ]
    },
    {
      "cell_type": "code",
      "metadata": {
        "id": "WN2ABlJBh-wg",
        "outputId": "9e27ac9c-b72f-4772-d418-5ea37bc3964a",
        "colab": {
          "base_uri": "https://localhost:8080/",
          "height": 34
        }
      },
      "source": [
        "#Q 4:Returns  a new set with all items from both sets by removing duplicates\n",
        "\n",
        "\n",
        "def set_operation(setA,setB):\n",
        "  setC=setA.union(setB) # union operation combines two sets after eliminating duplicates\n",
        "  return setC\n",
        "\n",
        "\n",
        "setA={'A','B','C',2,4,6}\n",
        "setB={1,2,3,4,5,6,'a','b'}\n",
        "res=set_operation(setA,setB)\n",
        "print(res)"
      ],
      "execution_count": 6,
      "outputs": [
        {
          "output_type": "stream",
          "text": [
            "{1, 2, 3, 4, 'B', 6, 5, 'C', 'b', 'a', 'A'}\n"
          ],
          "name": "stdout"
        }
      ]
    },
    {
      "cell_type": "code",
      "metadata": {
        "id": "x1bm2cdbxMfI",
        "outputId": "767962e7-de0d-4ce7-f90e-86f00c27cfdc",
        "colab": {
          "base_uri": "https://localhost:8080/",
          "height": 34
        }
      },
      "source": [
        "#Q5: Merge following two Python dictionaries into one\n",
        "\n",
        "\n",
        "def merge(dict1,dict2):\n",
        "  dict3=dict1.copy() # copy all items in the \"dict1\" dictionary to \"dict3\" dictionary\n",
        "  dict3.update(dict2) # dict3 is updated with dict2\n",
        "  return dict3\n",
        "\n",
        "dict1 = {'Ten': 10, 'Twenty': 20, 'Thirty': 30}\n",
        "dict2 = {'Thirty': 30, 'Fourty': 40, 'Fifty': 50}\n",
        "res=merge(dict1,dict2)\n",
        "print(res)"
      ],
      "execution_count": null,
      "outputs": [
        {
          "output_type": "stream",
          "text": [
            "{'Ten': 10, 'Twenty': 20, 'Thirty': 30, 'Fourty': 40, 'Fifty': 50}\n"
          ],
          "name": "stdout"
        }
      ]
    },
    {
      "cell_type": "code",
      "metadata": {
        "id": "VexCD18A-TlZ",
        "outputId": "7406a0ba-39be-48c3-85f7-98757c53bc6c",
        "colab": {
          "base_uri": "https://localhost:8080/",
          "height": 34
        }
      },
      "source": [
        "#Q6: Given a Python dictionary, Change Brad’s salary to 8500\n",
        "\n",
        "\n",
        "sampleDict = {\n",
        "'emp1': {'name': 'Jhon', 'salary': 7500},\n",
        "'emp2': {'name': 'Emma', 'salary': 8000},\n",
        "'emp3': {'name': 'Brad', 'salary': 6500}\n",
        "}\n",
        "\n",
        "sampleDict['emp3']['salary']=8500 # changing the value of emp3 dictionary iniside another dictionary \n",
        "print(sampleDict)\n",
        "\n"
      ],
      "execution_count": null,
      "outputs": [
        {
          "output_type": "stream",
          "text": [
            "{'emp1': {'name': 'Jhon', 'salary': 7500}, 'emp2': {'name': 'Emma', 'salary': 8000}, 'emp3': {'name': 'Brad', 'salary': 8500}}\n"
          ],
          "name": "stdout"
        }
      ]
    },
    {
      "cell_type": "code",
      "metadata": {
        "id": "RLBd1ry_Biqb",
        "outputId": "b02677fc-c85b-44be-dc8f-80e9e9d4cf82",
        "colab": {
          "base_uri": "https://localhost:8080/",
          "height": 34
        }
      },
      "source": [
        "#Q7: Rename key city to location in the following dictionary\n",
        "\n",
        "sampleDict = {\n",
        "\"name\": \"Kelly\",\n",
        "\"age\":25,\n",
        "\"salary\": 8000,\n",
        "\"city\": \"New york\"\n",
        "}\n",
        "sampleDict[\"location\"]=sampleDict.pop(\"city\") # rename the key \"city\" to \"location\"\n",
        "print(sampleDict)"
      ],
      "execution_count": 1,
      "outputs": [
        {
          "output_type": "stream",
          "text": [
            "{'name': 'Kelly', 'age': 25, 'salary': 8000, 'location': 'New york'}\n"
          ],
          "name": "stdout"
        }
      ]
    }
  ]
}