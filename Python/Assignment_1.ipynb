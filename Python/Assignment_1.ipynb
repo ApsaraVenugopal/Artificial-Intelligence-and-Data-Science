{
  "nbformat": 4,
  "nbformat_minor": 0,
  "metadata": {
    "colab": {
      "name": "Assignment_1.ipynb",
      "provenance": []
    },
    "kernelspec": {
      "name": "python3",
      "display_name": "Python 3"
    }
  },
  "cells": [
    {
      "cell_type": "code",
      "metadata": {
        "id": "09wLwYyMrg7G",
        "colab_type": "code",
        "colab": {
          "base_uri": "https://localhost:8080/",
          "height": 54
        },
        "outputId": "dfe1afe9-8d7b-4b7f-bdd1-4828d1254d3d"
      },
      "source": [
        "# Q1 Input a string of odd length (minimum 9 characters), print a string made of the 3 middle characters from input string.(eg :- if input is abcdefghi, answer should be def)\n",
        "\n",
        "mystr=input(\"Enter a string : \")\n",
        "x=len(mystr)\n",
        "if x<9 or x%2==0:\n",
        "  print(\"Please enter a string of odd length with minimum 9 characters!!!\")\n",
        "else:\n",
        "  i=(x//2)-1\n",
        "  j=i+3\n",
        "  print(mystr[i:j])"
      ],
      "execution_count": null,
      "outputs": [
        {
          "output_type": "stream",
          "text": [
            "Enter a string : abcdefghi\n",
            "def\n"
          ],
          "name": "stdout"
        }
      ]
    },
    {
      "cell_type": "code",
      "metadata": {
        "id": "XHMHIdgOsC_Z",
        "colab_type": "code",
        "colab": {
          "base_uri": "https://localhost:8080/",
          "height": 72
        },
        "outputId": "c314383d-0500-4584-d102-2f22245a3b71"
      },
      "source": [
        "# Q2 (a) Calculate the sum and average of first n natural numbers using for loop\n",
        "\n",
        "num=int(input(\"Enter the limit: \"))\n",
        "if num<0:\n",
        "  print(\"Please enter a positive integer\")\n",
        "else:\n",
        "  sum=0\n",
        "  avg=0\n",
        "  for i in range(1,n+1):\n",
        "    sum+=i\n",
        "  avg=sum/num\n",
        "  print(f'Sum of first {num} natural numbers = ',sum)\n",
        "  print(f'Average of first {num} natural numbers = ',avg)\n"
      ],
      "execution_count": null,
      "outputs": [
        {
          "output_type": "stream",
          "text": [
            "Enter the limit: 10\n",
            "Sum of first 10 natural numbers =  55\n",
            "Average of first 10 natural numbers =  5.5\n"
          ],
          "name": "stdout"
        }
      ]
    },
    {
      "cell_type": "code",
      "metadata": {
        "id": "6b6KRB-vsf2b",
        "colab_type": "code",
        "colab": {
          "base_uri": "https://localhost:8080/",
          "height": 72
        },
        "outputId": "dce169ff-c79d-48fc-bc44-4f8ccbbb1e2f"
      },
      "source": [
        "# Q2 (b) Calculate the sum and average of first n natural numbers using while loop\n",
        "\n",
        "num=int(input(\"Enter the limit: \"))\n",
        "if num<0:\n",
        "  print(\"Please enter a positive integer\")\n",
        "else:\n",
        "  sum=0\n",
        "  i=1\n",
        "  while i<=num:\n",
        "    sum+=i\n",
        "    i=i+1\n",
        "  avg=sum/num\n",
        "  print(f'Sum of first {num} natural numbers',sum)\n",
        "  print(f'Average of first {num} natural numbers',avg)"
      ],
      "execution_count": null,
      "outputs": [
        {
          "output_type": "stream",
          "text": [
            "Enter the limit: 10\n",
            "Sum of first 10 natural numbers 55\n",
            "Average of first 10 natural numbers 5.5\n"
          ],
          "name": "stdout"
        }
      ]
    },
    {
      "cell_type": "code",
      "metadata": {
        "id": "4WdMNQrIsuB1",
        "colab_type": "code",
        "colab": {
          "base_uri": "https://localhost:8080/",
          "height": 145
        },
        "outputId": "db907fc9-552d-45d5-e8e6-61a5f0b5cb53"
      },
      "source": [
        "# Q3 Accept list of 5 float numbers as input from user using loop and store values in a list\n",
        "\n",
        "list1=[]\n",
        "print(\"Enter 5 float numbers \")\n",
        "for i in range(5):\n",
        "  value=float(input(f'Number {i+1}: '))\n",
        "  list1.append(value)\n",
        "print(\"Your List: \",list1)"
      ],
      "execution_count": 14,
      "outputs": [
        {
          "output_type": "stream",
          "text": [
            "Enter 5 float numbers \n",
            "Number 1: 1.5\n",
            "Number 2: 2.5\n",
            "Number 3: 3.5\n",
            "Number 4: 4.5\n",
            "Number 5: 5.5\n",
            "Your List:  [1.5, 2.5, 3.5, 4.5, 5.5]\n"
          ],
          "name": "stdout"
        }
      ]
    },
    {
      "cell_type": "code",
      "metadata": {
        "id": "mieWP4Mav5JZ",
        "colab_type": "code",
        "colab": {
          "base_uri": "https://localhost:8080/",
          "height": 217
        },
        "outputId": "1cfd4d42-6497-448a-8292-95650361ee31"
      },
      "source": [
        "# Q4 (a) Print the pattern\n",
        "\n",
        "rows=input(\"Enter the number of rows: \")\n",
        "i=1\n",
        "for i in range(1,int(rows)+1):\n",
        "  for j in range(1,i+1):\n",
        "    print(j,end=\" \")\n",
        "  print(\"\\n\")"
      ],
      "execution_count": 15,
      "outputs": [
        {
          "output_type": "stream",
          "text": [
            "Enter the number of rows: 5\n",
            "1 \n",
            "\n",
            "1 2 \n",
            "\n",
            "1 2 3 \n",
            "\n",
            "1 2 3 4 \n",
            "\n",
            "1 2 3 4 5 \n",
            "\n"
          ],
          "name": "stdout"
        }
      ]
    },
    {
      "cell_type": "code",
      "metadata": {
        "id": "kj0sES3ewNzW",
        "colab_type": "code",
        "colab": {
          "base_uri": "https://localhost:8080/",
          "height": 217
        },
        "outputId": "b13fcc8e-bc1b-4d61-8d47-f37853bbdac4"
      },
      "source": [
        "# Q4 (b) Print the pattern\n",
        "\n",
        "rows=int(input(\"Enter the number of rows: \"))\n",
        "i=1\n",
        "for i in range(rows,0,-1):\n",
        "  for j in range(i,0,-1):\n",
        "    print(j,end=\" \")\n",
        "  print(\"\\n\")"
      ],
      "execution_count": 16,
      "outputs": [
        {
          "output_type": "stream",
          "text": [
            "Enter the number of rows: 5\n",
            "5 4 3 2 1 \n",
            "\n",
            "4 3 2 1 \n",
            "\n",
            "3 2 1 \n",
            "\n",
            "2 1 \n",
            "\n",
            "1 \n",
            "\n"
          ],
          "name": "stdout"
        }
      ]
    },
    {
      "cell_type": "code",
      "metadata": {
        "id": "3_a6QURHwVwG",
        "colab_type": "code",
        "colab": {
          "base_uri": "https://localhost:8080/",
          "height": 54
        },
        "outputId": "9c3746cd-3444-4096-b16a-7fe612477d7b"
      },
      "source": [
        "# Q5 input a number, count and print the total number of digits in that number using while loop\n",
        "\n",
        "num=int(input(\"Enter any number: \"))\n",
        "count=0\n",
        "while num!=0:\n",
        "  num=num//10\n",
        "  count=count+1\n",
        "print(\"Total Number of Digits = \",count)"
      ],
      "execution_count": 29,
      "outputs": [
        {
          "output_type": "stream",
          "text": [
            "Enter any number: 741258963\n",
            "Total Number of Digits =  9\n"
          ],
          "name": "stdout"
        }
      ]
    },
    {
      "cell_type": "code",
      "metadata": {
        "id": "xYk5_yruwjj-",
        "colab_type": "code",
        "colab": {
          "base_uri": "https://localhost:8080/",
          "height": 35
        },
        "outputId": "af8bc872-9d75-44eb-93bc-4d28c32333b7"
      },
      "source": [
        "# Q6 Given two lists. Create a third list by picking an odd-index element from the first list and even index elements from second.\n",
        "\n",
        "listOne = [3, 6, 9, 12, 15, 18, 21]\n",
        "listTwo = [4, 8, 12, 16, 20, 24, 28]\n",
        "listThree=[]\n",
        "for j in range(0,len(listTwo),2):\n",
        "    listThree.insert(j,listTwo[j])\n",
        "for i in range(1,len(listOne),2):\n",
        "    listThree.insert(i,listOne[i])   \n",
        "print(listThree)"
      ],
      "execution_count": 18,
      "outputs": [
        {
          "output_type": "stream",
          "text": [
            "[4, 6, 12, 12, 20, 18, 28]\n"
          ],
          "name": "stdout"
        }
      ]
    },
    {
      "cell_type": "code",
      "metadata": {
        "id": "EOQOpYgnwxvI",
        "colab_type": "code",
        "colab": {
          "base_uri": "https://localhost:8080/",
          "height": 163
        },
        "outputId": "c1e8a09f-78d2-480e-db8d-137e1e8e7c24"
      },
      "source": [
        "# Q7 program to get the smallest number from a list\n",
        "\n",
        "limit=int(input(\"Enter the limit: \"))\n",
        "list1=[]\n",
        "for i in range(limit):\n",
        "  value=int(input(f'Element {i+1}: '))\n",
        "  list1.append(value)\n",
        "print(\"Your List is :\",list1)\n",
        "print(\"Smallest element is: \",min(list1))"
      ],
      "execution_count": 21,
      "outputs": [
        {
          "output_type": "stream",
          "text": [
            "Enter the limit: 5\n",
            "Element 1: 40\n",
            "Element 2: 56\n",
            "Element 3: 92\n",
            "Element 4: 12\n",
            "Element 5: 67\n",
            "Your List is : [40, 56, 92, 12, 67]\n",
            "Smallest element is:  12\n"
          ],
          "name": "stdout"
        }
      ]
    },
    {
      "cell_type": "code",
      "metadata": {
        "id": "VT-fN7PWxRpB",
        "colab_type": "code",
        "colab": {
          "base_uri": "https://localhost:8080/",
          "height": 35
        },
        "outputId": "7c709927-178d-4af5-f531-0d1d77bdb3fb"
      },
      "source": [
        "# Q8 Reverse the following list using for loop and range [ do not use reverse or reversed like functions] list1 = [10, 20, 30, 4, 50]\n",
        "\n",
        "list1=[10,20,30,4,50]\n",
        "for i in range(len(list1)-1,-1,-1):\n",
        "  print(list1[i],end=\" \")"
      ],
      "execution_count": 28,
      "outputs": [
        {
          "output_type": "stream",
          "text": [
            "50 4 30 20 10 "
          ],
          "name": "stdout"
        }
      ]
    }
  ]
}