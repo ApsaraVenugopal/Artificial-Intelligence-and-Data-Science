{
  "nbformat": 4,
  "nbformat_minor": 0,
  "metadata": {
    "colab": {
      "name": "Assignment_4.ipynb",
      "provenance": []
    },
    "kernelspec": {
      "name": "python3",
      "display_name": "Python 3"
    }
  },
  "cells": [
    {
      "cell_type": "code",
      "metadata": {
        "id": "0Upq-K1Zrpae",
        "outputId": "2f39e93d-aa72-495d-b1c9-71aa30107ab7",
        "colab": {
          "base_uri": "https://localhost:8080/",
          "height": 35
        }
      },
      "source": [
        "# Q1 : create a txt file, enter multiple lines of text. read this file line by line and store it into a list. Apply exception handling technique\n",
        "\n",
        "\n",
        "# creating a file named doc_file\n",
        "\n",
        "%%writefile doc_file.txt \n",
        "Lorem Ipsum is simply dummy text of the printing and typesetting industry.\n",
        "Lorem Ipsum has been the industry's standard dummy text ever since the 1500s, when an unknown printer took a galley of type and scrambled it to make a type specimen book.\n",
        "It has survived not only five centuries, but also the leap into electronic typesetting, remaining essentially unchanged.\n",
        "It was popularised in the 1960s with the release of Letraset sheets containing Lorem Ipsum passages, and more recently with desktop publishing software like Aldus PageMaker including versions of Lorem Ipsum.\n"
      ],
      "execution_count": 16,
      "outputs": [
        {
          "output_type": "stream",
          "text": [
            "Writing doc_file.txt\n"
          ],
          "name": "stdout"
        }
      ]
    },
    {
      "cell_type": "code",
      "metadata": {
        "id": "L4gY0FpR9sg6",
        "outputId": "c8659f65-b479-44fa-ee01-e57a2cd7fd11",
        "colab": {
          "base_uri": "https://localhost:8080/",
          "height": 183
        }
      },
      "source": [
        "try:\n",
        "  myfile=open(\"doc_file.txt\",\"r\") # open doc_file\n",
        "  myfile.seek(0)\n",
        "  lines=myfile.readlines()\n",
        "  lst=[line for line in lines] # read the contents line by line from  doc_file and store it into a list 'lst'\n",
        "  for i in lst:\n",
        "    print(i)\n",
        "except:\n",
        "  print(\"Couldn't Open File...!\")\n",
        "else:\n",
        "  print(\".\"*50,\"Task completed\",\".\"*50)"
      ],
      "execution_count": 27,
      "outputs": [
        {
          "output_type": "stream",
          "text": [
            "Lorem Ipsum is simply dummy text of the printing and typesetting industry.\n",
            "\n",
            "Lorem Ipsum has been the industry's standard dummy text ever since the 1500s, when an unknown printer took a galley of type and scrambled it to make a type specimen book.\n",
            "\n",
            "It has survived not only five centuries, but also the leap into electronic typesetting, remaining essentially unchanged.\n",
            "\n",
            "It was popularised in the 1960s with the release of Letraset sheets containing Lorem Ipsum passages, and more recently with desktop publishing software like Aldus PageMaker including versions of Lorem Ipsum.\n",
            ".................................................. Task completed ..................................................\n"
          ],
          "name": "stdout"
        }
      ]
    },
    {
      "cell_type": "code",
      "metadata": {
        "id": "6iW1C-25EQd3",
        "outputId": "8eb043b4-f86b-4124-a03e-429563b859cd",
        "colab": {
          "base_uri": "https://localhost:8080/",
          "height": 145
        }
      },
      "source": [
        "# Q2: Write a Python program to write below list content to a file. Apply exception handling technique color = ['Red', 'Green', 'White', 'Black', 'Pink', 'Yellow']\n",
        "\n",
        "color = ['Red', 'Green', 'White', 'Black', 'Pink', 'Yellow']\n",
        "try:\n",
        "  f=open('listfile.txt', 'w+')\n",
        "  for i in color:\n",
        "    f.write(i)\n",
        "    f.write(\"\\n\")\n",
        "except:\n",
        "  print(\"Couldn't write to the file....!\")\n",
        "f.seek(0)\n",
        "print(f.read())"
      ],
      "execution_count": null,
      "outputs": [
        {
          "output_type": "stream",
          "text": [
            "Red\n",
            "Green\n",
            "White\n",
            "Black\n",
            "Pink\n",
            "Yellow\n",
            "\n"
          ],
          "name": "stdout"
        }
      ]
    },
    {
      "cell_type": "code",
      "metadata": {
        "id": "Fi0KfFCrKvWz",
        "outputId": "b35e79d7-956b-4c50-d96a-8aa4a11699d2",
        "colab": {
          "base_uri": "https://localhost:8080/",
          "height": 35
        }
      },
      "source": [
        "# Q3 : create a txt file, enter multiple lines of text. remove newline characters from created file and print as a list. Apply exception handling techniques wherever possible\n",
        "\n",
        "%%writefile text_file.txt \n",
        "Lorem Ipsum is simply dummy text of the printing and typesetting industry.\n",
        "Lorem Ipsum has been the industry's standard dummy text ever since the 1500s, when an unknown printer took a galley of type and scrambled it to make a type specimen book.\n",
        "It has survived not only five centuries, but also the leap into electronic typesetting, remaining essentially unchanged.\n",
        "It was popularised in the 1960s with the release of Letraset sheets containing Lorem Ipsum passages, and more recently with desktop publishing software like Aldus PageMaker including versions of Lorem Ipsum.\n"
      ],
      "execution_count": null,
      "outputs": [
        {
          "output_type": "stream",
          "text": [
            "Writing text_file.txt\n"
          ],
          "name": "stdout"
        }
      ]
    },
    {
      "cell_type": "code",
      "metadata": {
        "id": "lqUj2F21KzDQ",
        "outputId": "034530d7-f41e-42db-c434-653d95c95879",
        "colab": {
          "base_uri": "https://localhost:8080/",
          "height": 35
        }
      },
      "source": [
        "try:\n",
        "  fo=open(\"text_file.txt\")\n",
        "  list1=[]\n",
        "  for i in fo:\n",
        "    list1.append(i.strip(\"\\n\")) #remove '\\n' using strip() method and append the item to list\n",
        "  print(list1)\n",
        "except:\n",
        "  print(\"Error..........\")"
      ],
      "execution_count": null,
      "outputs": [
        {
          "output_type": "stream",
          "text": [
            "Error..........\n"
          ],
          "name": "stdout"
        }
      ]
    },
    {
      "cell_type": "code",
      "metadata": {
        "id": "Q_t5P2b2Qsxo",
        "outputId": "e3c0ed80-f91e-4a74-eaf3-528a999fdb53",
        "colab": {
          "base_uri": "https://localhost:8080/",
          "height": 55
        }
      },
      "source": [
        "# Q4 : create a testfile1.txt file, enter multiple lines of text . Now copy contents of testfile1.txt to new file testfile22.txt. Apply exception handling techniques wherever possible\n",
        "\n",
        "try:\n",
        "  f1 = open(\"testfile1.txt\", \"w+\")\n",
        "  f1.write(\"Lorem Ipsum is simply dummy text of the printing and typesetting industry.Lorem Ipsum has been the industry's standard dummy text ever since the 1500s, when an unknown printer took a galley of type and scrambled it to make a type specimen book.It has survived not only five centuries, but also the leap into electronic typesetting, remaining essentially unchanged.\")\n",
        "  \n",
        "except:\n",
        "  print(\"Something Wrong....\")\n",
        "else:\n",
        "  f1.seek(0)\n",
        "  mystr=f1.read()\n",
        "  try:\n",
        "    f2=open(\"testfile22.txt\",\"w+\")\n",
        "    f2.write(mystr) # copy the contents of testfile1.txt to testfile22.txt\n",
        "    f2.seek(0)\n",
        "    print(f2.read())\n",
        "  except:\n",
        "    print(\"couldn't write to the file...\")"
      ],
      "execution_count": null,
      "outputs": [
        {
          "output_type": "stream",
          "text": [
            "Lorem Ipsum is simply dummy text of the printing and typesetting industry.Lorem Ipsum has been the industry's standard dummy text ever since the 1500s, when an unknown printer took a galley of type and scrambled it to make a type specimen book.It has survived not only five centuries, but also the leap into electronic typesetting, remaining essentially unchanged.\n"
          ],
          "name": "stdout"
        }
      ]
    }
  ]
}